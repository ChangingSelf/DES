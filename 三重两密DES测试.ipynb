{
 "cells": [
  {
   "cell_type": "code",
   "execution_count": 9,
   "metadata": {},
   "outputs": [
    {
     "name": "stdout",
     "output_type": "stream",
     "text": [
      "b'\\x8fk\\x90\\x85\\x12^\\xf5\\xde\\x14\\xabI\\\\\\x12y\\xc9\\x10\\xd9\\xc7m!\\x849\\xc9Y'\n",
      "24\n"
     ]
    }
   ],
   "source": [
    "import pyDes\n",
    "\n",
    "key1 = 'UZBc&vrz'\n",
    "key2 = 'Al9F)SeW'\n",
    "\n",
    "plain_text_b = '你好世界hello'.encode()\n",
    "\n",
    "des = pyDes.des(key1)\n",
    "\n",
    "cipher_text_b = des.encrypt(plain_text_b,padmode=pyDes.PAD_PKCS5)\n",
    "print(cipher_text_b)\n",
    "print(len(cipher_text_b))"
   ]
  },
  {
   "cell_type": "code",
   "execution_count": 13,
   "metadata": {},
   "outputs": [
    {
     "name": "stdout",
     "output_type": "stream",
     "text": [
      "b'\\xf7\\xaf<&\\xf8R\\xa8c;\\xc3Q\\xcb\\x9cl\\x97\\x02~\\xb5k\\x1f#\\x9b\\x8fh'\n"
     ]
    }
   ],
   "source": [
    "des = pyDes.des(key2)\n",
    "plain_text_b = des.decrypt(cipher_text_b)\n",
    "print(plain_text_b)"
   ]
  },
  {
   "cell_type": "code",
   "execution_count": 14,
   "metadata": {},
   "outputs": [
    {
     "name": "stdout",
     "output_type": "stream",
     "text": [
      "b'PJ4n\\x96j\\x07\\x85\\xefi2p\\xc5\\xa4B\\xce\\t\\xe7:=\\x11\\xf3$\\xabL\\x95\\x89\\x92\\x87\\xfd\\x856'\n",
      "32\n"
     ]
    }
   ],
   "source": [
    "des = pyDes.des(key1)\n",
    "cipher_text_b = des.encrypt(plain_text_b,padmode=pyDes.PAD_PKCS5)\n",
    "print(cipher_text_b)\n",
    "print(len(cipher_text_b))"
   ]
  },
  {
   "cell_type": "code",
   "execution_count": 15,
   "metadata": {},
   "outputs": [
    {
     "name": "stdout",
     "output_type": "stream",
     "text": [
      "b'\\xf7\\xaf<&\\xf8R\\xa8c;\\xc3Q\\xcb\\x9cl\\x97\\x02~\\xb5k\\x1f#\\x9b\\x8fh\\x08\\x08\\x08\\x08\\x08\\x08\\x08\\x08'\n"
     ]
    }
   ],
   "source": [
    "# 开始解密\n",
    "# P = D_k1(E_k2(D_k1(C)))\n",
    "\n",
    "des = pyDes.des(key1)\n",
    "plain_text_b = des.decrypt(cipher_text_b)\n",
    "print(plain_text_b)"
   ]
  },
  {
   "cell_type": "code",
   "execution_count": 16,
   "metadata": {},
   "outputs": [
    {
     "name": "stdout",
     "output_type": "stream",
     "text": [
      "b'\\x8fk\\x90\\x85\\x12^\\xf5\\xde\\x14\\xabI\\\\\\x12y\\xc9\\x10\\xd9\\xc7m!\\x849\\xc9Y7\\xa7]ao\\x9a-\\x807\\xa7]ao\\x9a-\\x80'\n",
      "40\n"
     ]
    }
   ],
   "source": [
    "des = pyDes.des(key2)\n",
    "cipher_text_b = des.encrypt(plain_text_b,padmode=pyDes.PAD_PKCS5)\n",
    "print(cipher_text_b)\n",
    "print(len(cipher_text_b))"
   ]
  },
  {
   "cell_type": "code",
   "execution_count": 17,
   "metadata": {},
   "outputs": [
    {
     "name": "stdout",
     "output_type": "stream",
     "text": [
      "b'\\xe4\\xbd\\xa0\\xe5\\xa5\\xbd\\xe4\\xb8\\x96\\xe7\\x95\\x8chello\\x07\\x07\\x07\\x07\\x07\\x07\\x07\\x1eW\\xaf;{\\x12\\xb2\\x17\\x1eW\\xaf;{\\x12\\xb2\\x17'\n"
     ]
    }
   ],
   "source": [
    "des = pyDes.des(key1)\n",
    "plain_text_b = des.decrypt(cipher_text_b)\n",
    "print(plain_text_b)"
   ]
  },
  {
   "cell_type": "code",
   "execution_count": 19,
   "metadata": {},
   "outputs": [
    {
     "name": "stdout",
     "output_type": "stream",
     "text": [
      "你好世界hello\u0007\u0007\u0007\u0007\u0007\u0007\u0007\u001e",
      "W;{\u0012\u0017\u001e",
      "W;{\u0012\u0017\n"
     ]
    }
   ],
   "source": [
    "print(plain_text_b.decode(errors='ignore'))"
   ]
  }
 ],
 "metadata": {
  "kernelspec": {
   "display_name": "Python 3",
   "language": "python",
   "name": "python3"
  },
  "language_info": {
   "codemirror_mode": {
    "name": "ipython",
    "version": 3
   },
   "file_extension": ".py",
   "mimetype": "text/x-python",
   "name": "python",
   "nbconvert_exporter": "python",
   "pygments_lexer": "ipython3",
   "version": "3.8.2"
  }
 },
 "nbformat": 4,
 "nbformat_minor": 4
}
